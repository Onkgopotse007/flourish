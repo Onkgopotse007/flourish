{
 "cells": [
  {
   "cell_type": "code",
   "execution_count": null,
   "metadata": {},
   "outputs": [],
   "source": [
    "import os, sys\n",
    "import django\n",
    "from datetime import datetime\n",
    "sys.path.append('../') # add path to project root dir\n",
    "import pandas as pd\n",
    "os.environ[\"DJANGO_SETTINGS_MODULE\"] = \"flourish.settings\"\n",
    "from django.apps import apps as django_apps\n",
    "os.environ[\"DJANGO_ALLOW_ASYNC_UNSAFE\"] = \"true\"\n",
    "django.setup()"
   ]
  },
  {
   "cell_type": "code",
   "execution_count": null,
   "metadata": {},
   "outputs": [],
   "source": [
    "SubjectConsent = django_apps.get_model('flourish_caregiver.subjectconsent')\n",
    "SubjectConsent"
   ]
  },
  {
   "cell_type": "code",
   "execution_count": null,
   "metadata": {},
   "outputs": [],
   "source": [
    "\n",
    "subject_identifiers = set(SubjectConsent.objects.values_list('subject_identifier', flat=True))\n",
    "subject_identifiers"
   ]
  },
  {
   "cell_type": "code",
   "execution_count": null,
   "metadata": {},
   "outputs": [],
   "source": [
    "for identifier in subject_identifiers:\n",
    "        # Retrieve the oldest consent object for the current subject_identifier\n",
    "        oldest_consent_obj = SubjectConsent.objects.filter(\n",
    "            subject_identifier=identifier\n",
    "        ).order_by('consent_datetime').first()\n",
    "\n",
    "        if oldest_consent_obj:\n",
    "            oldest_dob = oldest_consent_obj.dob\n",
    "            # Update all dob fields for the current subject_identifier with the oldest dob value\n",
    "            SubjectConsent.objects.filter(\n",
    "                subject_identifier=identifier\n",
    "            ).update(dob=oldest_dob)\n",
    "            print(f\"DOB updated successfully for subject identifier: {identifier}.\")\n",
    "        else:\n",
    "            print(f\"No consent objects found for subject identifier: {identifier}.\")"
   ]
  }
 ],
 "metadata": {
  "kernelspec": {
   "display_name": "venv",
   "language": "python",
   "name": "python3"
  },
  "language_info": {
   "codemirror_mode": {
    "name": "ipython",
    "version": 3
   },
   "file_extension": ".py",
   "mimetype": "text/x-python",
   "name": "python",
   "nbconvert_exporter": "python",
   "pygments_lexer": "ipython3",
   "version": "3.12.1"
  }
 },
 "nbformat": 4,
 "nbformat_minor": 2
}
